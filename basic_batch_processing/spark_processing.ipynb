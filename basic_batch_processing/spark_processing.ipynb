{
 "cells": [
  {
   "cell_type": "markdown",
   "metadata": {},
   "source": [
    "### This project is aimed at understanding the various spark functions needed to do batch processing.\n",
    "#### Datasets\n",
    "     - Stocks data from kaggle\n",
    "     - data scientists jobs from kaggle\n"
   ]
  },
  {
   "cell_type": "code",
   "execution_count": null,
   "metadata": {},
   "outputs": [],
   "source": [
    "import pyspark\n",
    "\n",
    "from pyspark.sql.types import BooleanType\n",
    "from pyspark.sql.functions import udf\n",
    "from pyspark.sql import functions as F\n",
    "from pyspark.sql import SparkSession\n",
    "from pyspark.sql import Window"
   ]
  },
  {
   "cell_type": "code",
   "execution_count": null,
   "metadata": {},
   "outputs": [],
   "source": [
    "# Creating a spark session\n",
    "spark = SparkSession.builder.getOrCreate()"
   ]
  },
  {
   "cell_type": "code",
   "execution_count": null,
   "metadata": {},
   "outputs": [],
   "source": [
    "# Download the dataset from an s3 bucket\n",
    "\n",
    "import boto3\n",
    "\n",
    "s3 = boto3.client('s3') # creating the boto3 to be able to access the file from the s3 bucket\n",
    "\n",
    "s3.download_file('blossom-data-engs', 'all-us-stocks-tickers-company-info-logos.zip', 'us_stocks.zip')\n",
    "s3.download_file('blossom-data-engs', 'data-scientist-job-market-in-the-us.zip', 'ds_jobs.zip')"
   ]
  },
  {
   "cell_type": "code",
   "execution_count": null,
   "metadata": {},
   "outputs": [],
   "source": [
    "# creating a new dataframe from the csv file...\n",
    "companies = spark.read.csv(\"companies.csv\", header=True, inferSchema=True,multiLine=True)\n",
    "alldata = spark.read.csv(\"alldata.csv\", header=True, inferSchema=True, multiLine=True)"
   ]
  },
  {
   "cell_type": "code",
   "execution_count": 62,
   "metadata": {},
   "outputs": [],
   "source": [
    "# renaming the description both dataframes.\n",
    "companies = companies.withColumnRenamed('description','company_description')\n",
    "alldata = alldata.withColumnRenamed('description','job_description')"
   ]
  },
  {
   "cell_type": "code",
   "execution_count": 63,
   "metadata": {},
   "outputs": [],
   "source": [
    "#merging the 2 dataframes...\n",
    "merged_data = companies.join(alldata, alldata['company'] == companies['company name'])"
   ]
  },
  {
   "cell_type": "code",
   "execution_count": 65,
   "metadata": {},
   "outputs": [],
   "source": [
    "#extracting the city from the location data...\n",
    "merged_data = merged_data.select('*', F.split(alldata['location'], ',')[0].alias('city'))"
   ]
  },
  {
   "cell_type": "code",
   "execution_count": 126,
   "metadata": {},
   "outputs": [
    {
     "data": {
      "text/plain": [
       "(6512, 8714)"
      ]
     },
     "execution_count": 126,
     "metadata": {},
     "output_type": "execute_result"
    }
   ],
   "source": [
    "companies.count(), alldata.count()"
   ]
  },
  {
   "cell_type": "code",
   "execution_count": 142,
   "metadata": {},
   "outputs": [],
   "source": [
    "from pyspark.ml.feature import NGram, Tokenizer"
   ]
  },
  {
   "cell_type": "code",
   "execution_count": 143,
   "metadata": {},
   "outputs": [],
   "source": [
    "#This function creates the ngrams from the dataframe using the specified column\n",
    "def create_ngram(df, col):\n",
    "    tokens = Tokenizer(inputCol=col, outputCol='tokens') # create tokens from the data on the col column\n",
    "    new_df = tokens.transform(df)   ## apply the tokenizer on the dataset\n",
    "    ngram = NGram(n=2, inputCol='tokens', outputCol='ngrams') # creating the ngram object\n",
    "    new_df = ngram.transform(new_df)  #transform the df with the ngram\n",
    "    return new_df\n"
   ]
  },
  {
   "cell_type": "code",
   "execution_count": 149,
   "metadata": {},
   "outputs": [],
   "source": [
    "# method for creating the frequency data function...\n",
    "def create_freq_df(df, col):\n",
    "    n=df.select(col, F.explode('ngrams').alias('ngrams')).groupBy([col, 'ngrams']).count() #exploding the ngrams\n",
    "    n = n.withColumnRenamed('count','frequency') # changing the column name from count to frequency\n",
    "    n = n.orderBy(n['frequency'].desc()) # ordering rows by biggest first.\n",
    "    return n\n"
   ]
  },
  {
   "cell_type": "code",
   "execution_count": 144,
   "metadata": {},
   "outputs": [],
   "source": [
    "#applying the function to the merged_data df to create ngrams from the job_description...\n",
    "new_data = create_ngram(merged_data, 'company_description')"
   ]
  },
  {
   "cell_type": "code",
   "execution_count": 150,
   "metadata": {},
   "outputs": [],
   "source": [
    "#creating the freq for industry ngrams\n",
    "industry_freq_df = create_freq_df(new_data, 'industry')"
   ]
  },
  {
   "cell_type": "code",
   "execution_count": 151,
   "metadata": {},
   "outputs": [
    {
     "name": "stdout",
     "output_type": "stream",
     "text": [
      "+------------------+--------------------+---------+\n",
      "|          industry|              ngrams|frequency|\n",
      "+------------------+--------------------+---------+\n",
      "|     Biotechnology|                is a|       52|\n",
      "|Drug Manufacturers|        and vaccines|       47|\n",
      "|     Biotechnology|             corp is|       42|\n",
      "|     Biotechnology|            to treat|       41|\n",
      "|     Biotechnology|  and commercializes|       36|\n",
      "|     Biotechnology|          cancer and|       34|\n",
      "|     Biotechnology|         designed to|       34|\n",
      "|     Biotechnology|discovers, develops,|       34|\n",
      "|     Biotechnology|        treat cancer|       34|\n",
      "|     Biotechnology|  abraxane, istodax,|       34|\n",
      "|     Biotechnology|        company that|       34|\n",
      "|     Biotechnology| revlimid, thalomid,|       34|\n",
      "|     Biotechnology|and immune-inflam...|       34|\n",
      "|     Biotechnology|   related diseases.|       34|\n",
      "|     Biotechnology|       diseases. its|       34|\n",
      "|     Biotechnology|          brands are|       34|\n",
      "|     Biotechnology| pomalyst, revlimid,|       34|\n",
      "|     Biotechnology|    istodax, otezla,|       34|\n",
      "|     Biotechnology|      its registered|       34|\n",
      "|     Biotechnology|     that discovers,|       34|\n",
      "+------------------+--------------------+---------+\n",
      "only showing top 20 rows\n",
      "\n"
     ]
    }
   ],
   "source": [
    "industry_freq_df.show()"
   ]
  },
  {
   "cell_type": "code",
   "execution_count": 152,
   "metadata": {},
   "outputs": [],
   "source": [
    "#creating the freq for the city ngrams\n",
    "job_df = create_ngram(merged_data, 'job_description')\n",
    "city_freq_df = create_freq_df(job_df,'city')"
   ]
  },
  {
   "cell_type": "code",
   "execution_count": 153,
   "metadata": {},
   "outputs": [
    {
     "name": "stdout",
     "output_type": "stream",
     "text": [
      "+---------+-----------------+---------+\n",
      "|     city|           ngrams|frequency|\n",
      "+---------+-----------------+---------+\n",
      "|Cambridge|       ability to|      130|\n",
      "|Cambridge|           in the|      130|\n",
      "|Cambridge|           of the|      104|\n",
      "|Cambridge|    experience in|       93|\n",
      "|Cambridge|           to the|       85|\n",
      "|San Diego|           in the|       82|\n",
      "|Cambridge|             in a|       79|\n",
      "|Cambridge|          and the|       78|\n",
      "|Cambridge|             as a|       67|\n",
      "|Cambridge|  experience with|       65|\n",
      "|Cambridge|          to work|       65|\n",
      "|Cambridge|equal opportunity|       64|\n",
      "|Cambridge|        sanofi is|       59|\n",
      "|Cambridge|          well as|       58|\n",
      "|Cambridge|          as well|       57|\n",
      "|Cambridge|     committed to|       56|\n",
      "|Cambridge|        regard to|       55|\n",
      "|Cambridge|          will be|       55|\n",
      "|San Diego|           of the|       54|\n",
      "|Cambridge|  gender identity|       48|\n",
      "+---------+-----------------+---------+\n",
      "only showing top 20 rows\n",
      "\n"
     ]
    }
   ],
   "source": [
    "city_freq_df.show()"
   ]
  },
  {
   "cell_type": "code",
   "execution_count": null,
   "metadata": {},
   "outputs": [],
   "source": []
  }
 ],
 "metadata": {
  "kernelspec": {
   "display_name": "Python 3",
   "language": "python",
   "name": "python3"
  },
  "language_info": {
   "codemirror_mode": {
    "name": "ipython",
    "version": 3
   },
   "file_extension": ".py",
   "mimetype": "text/x-python",
   "name": "python",
   "nbconvert_exporter": "python",
   "pygments_lexer": "ipython3",
   "version": "3.7.0"
  }
 },
 "nbformat": 4,
 "nbformat_minor": 4
}
