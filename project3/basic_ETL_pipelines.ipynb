{
 "cells": [
  {
   "cell_type": "markdown",
   "metadata": {},
   "source": [
    "# Basic Extract Transform and Load(ETL) pipeline using spark and postgres\n",
    "### Data is scrapped from Stack overflow into the following tables:\n",
    "- Questions\n",
    "- Answers\n",
    "- Users\n",
    "\n",
    "#### This script is divided into 4 steps to illustrate the process\n"
   ]
  },
  {
   "cell_type": "markdown",
   "metadata": {},
   "source": [
    "### Step 1: Data Extraction"
   ]
  },
  {
   "cell_type": "code",
   "execution_count": 1,
   "metadata": {},
   "outputs": [],
   "source": [
    "import pyspark\n",
    "\n",
    "from pyspark.sql.types import BooleanType\n",
    "from pyspark.sql.functions import udf\n",
    "from pyspark.sql import functions as F\n",
    "from pyspark.sql import SparkSession\n",
    "from pyspark.sql import Window"
   ]
  },
  {
   "cell_type": "code",
   "execution_count": 2,
   "metadata": {},
   "outputs": [],
   "source": [
    "#initializing spark a spark session\n",
    "spark = ( \n",
    "    SparkSession.builder\n",
    "                .appName(\"Stack Overflow Data Wrangling\")\n",
    "                .config(\"spark.jars\", \"../jars/\")\n",
    "                .getOrCreate()\n",
    ")"
   ]
  },
  {
   "cell_type": "code",
   "execution_count": 77,
   "metadata": {},
   "outputs": [],
   "source": [
    "#loading the data in dataframes\n",
    "answers = spark.read.csv(\"../data/stackoverflow/answers.csv\",  header=True, inferSchema=True,multiLine=True)\n",
    "questions = spark.read.csv(\"../data/stackoverflow/questions.csv\", header=True, inferSchema=True,multiLine=True)\n",
    "users = spark.read.csv(\"../data/stackoverflow/users.csv\", header=True, inferSchema=True,multiLine=True)"
   ]
  },
  {
   "cell_type": "code",
   "execution_count": 78,
   "metadata": {},
   "outputs": [],
   "source": [
    "#transforming the id column names as well as the timestamps too to avoid the ambiguity\n",
    "answers = answers.withColumnRenamed('id', 'answer_id').withColumnRenamed('created_at', 'answer_created_at').withColumnRenamed('body','answer_body')\n",
    "questions = questions.withColumnRenamed('id', 'question_id').withColumnRenamed('created_at', 'question_created_at').withColumnRenamed('body','question_body')\n",
    "users = users.withColumnRenamed('id', 'user_id').withColumnRenamed('created_at', 'user_created_at').withColumnRenamed('updated_at', 'user_updated_at')"
   ]
  },
  {
   "cell_type": "markdown",
   "metadata": {},
   "source": [
    "#### Step 2: Data Transformation"
   ]
  },
  {
   "cell_type": "code",
   "execution_count": 79,
   "metadata": {},
   "outputs": [],
   "source": [
    "#getting only indian users..\n",
    "india_users = users.filter(users.location.contains('India'))"
   ]
  },
  {
   "cell_type": "code",
   "execution_count": 80,
   "metadata": {},
   "outputs": [
    {
     "name": "stdout",
     "output_type": "stream",
     "text": [
      "+--------+------------------+----------+--------------------+--------------------+--------------------+-----+--------+----------+--------------------+-------------------+-------------------+\n",
      "| user_id|      display_name|reputation|         website_url|            location|            about_me|views|up_votes|down_votes|           image_url|    user_created_at|    user_updated_at|\n",
      "+--------+------------------+----------+--------------------+--------------------+--------------------+-----+--------+----------+--------------------+-------------------+-------------------+\n",
      "| 8357266|            suryan|         7|https://twitter.c...|Bangalore, Karnat...|                null|    8|       0|         0|https://www.grava...|2017-07-24 10:55:23|2019-06-19 05:00:16|\n",
      "| 6504306|             A.Raw|         4|                null|New Delhi, Delhi,...|                null|   10|       0|         0|https://i.stack.i...|2016-06-23 12:58:03|2019-10-12 06:59:32|\n",
      "|10260743|     Kartik Juneja|         3|                null|Gharaunda, Haryan...|<p>4th year Btech...|    2|       0|         0|https://lh5.googl...|2018-08-22 16:14:32|2019-01-27 13:05:45|\n",
      "| 4689205|            sd5869|         1|    http://sd5869.me|    New Delhi, India|                null|    5|       0|         0|                null|2015-03-19 10:20:21|2019-09-18 14:36:03|\n",
      "|10262756|           Ali Mir|         5|    http://nowebsite|Jalandhar, Punjab...|<p>I am a profess...|    9|       0|         0|https://lh4.googl...|2018-08-23 04:10:49|2019-10-12 06:38:20|\n",
      "|10262983|     Nikunj Hapani|         1|                null|Surat, Gujarat, I...|<p>Hello, I am PH...|    7|       0|         0|https://www.grava...|2018-08-23 05:44:28|2019-03-28 12:34:16|\n",
      "|10249338|Prashant Kalikotay|         3|                null|Darjeeling, West ...|<p>Currently: Pur...|    4|       0|         0|https://lh6.googl...|2018-08-20 10:17:27|2019-09-23 15:29:44|\n",
      "|10254503|      Akshay Nikam|         6|                null|Pune, Maharashtra...|                null|    6|       0|         0|https://lh4.googl...|2018-08-21 11:23:31|2019-08-22 06:36:53|\n",
      "|10254796|            Harsh |         6|                null|Mumbai, Maharasht...|                null|    4|       0|         0|https://lh4.googl...|2018-08-21 12:33:09|2019-08-21 10:48:38|\n",
      "| 8363933|    Jitendra Kumar|         1|                null|Bangalore, Karnat...|                null|    1|       0|         0|https://i.stack.i...|2017-07-25 13:15:23|2019-10-09 07:36:13|\n",
      "+--------+------------------+----------+--------------------+--------------------+--------------------+-----+--------+----------+--------------------+-------------------+-------------------+\n",
      "only showing top 10 rows\n",
      "\n"
     ]
    }
   ],
   "source": [
    "india_users.show(10)"
   ]
  },
  {
   "cell_type": "code",
   "execution_count": 81,
   "metadata": {},
   "outputs": [],
   "source": [
    "#extracting the country and city into new columns\n",
    "cols = F.split(india_users['location'], ',' )\n",
    "india_users = india_users.withColumn('city', cols.getItem(0))\n",
    "india_users = india_users.withColumn('country', cols.getItem(2))"
   ]
  },
  {
   "cell_type": "code",
   "execution_count": 82,
   "metadata": {},
   "outputs": [
    {
     "data": {
      "text/plain": [
       "[Row(user_id='8357266', display_name='suryan', reputation='7', website_url='https://twitter.com/suryan989', location='Bangalore, Karnataka, India', about_me=None, views='8', up_votes='0', down_votes='0', image_url='https://www.gravatar.com/avatar/73f771bf22784bb7f317b3309f48741a?s=128&d=identicon&r=PG&f=1', user_created_at='2017-07-24 10:55:23', user_updated_at='2019-06-19 05:00:16', city='Bangalore', country=' India'),\n",
       " Row(user_id='6504306', display_name='A.Raw', reputation='4', website_url=None, location='New Delhi, Delhi, India', about_me=None, views='10', up_votes='0', down_votes='0', image_url='https://i.stack.imgur.com/QxJgz.jpg?s=128&g=1', user_created_at='2016-06-23 12:58:03', user_updated_at='2019-10-12 06:59:32', city='New Delhi', country=' India'),\n",
       " Row(user_id='10260743', display_name='Kartik Juneja', reputation='3', website_url=None, location='Gharaunda, Haryana, India', about_me='<p>4th year Btech Student\\nlooking for my codes solutions.</p>\\n', views='2', up_votes='0', down_votes='0', image_url='https://lh5.googleusercontent.com/-cBelQxdSIw4/AAAAAAAAAAI/AAAAAAAABiU/2Kb3IFsBtqI/photo.jpg?sz=128', user_created_at='2018-08-22 16:14:32', user_updated_at='2019-01-27 13:05:45', city='Gharaunda', country=' India'),\n",
       " Row(user_id='4689205', display_name='sd5869', reputation='1', website_url='http://sd5869.me', location='New Delhi, India', about_me=None, views='5', up_votes='0', down_votes='0', image_url=None, user_created_at='2015-03-19 10:20:21', user_updated_at='2019-09-18 14:36:03', city='New Delhi', country=None),\n",
       " Row(user_id='10262756', display_name='Ali Mir', reputation='5', website_url='http://nowebsite', location='Jalandhar, Punjab, India', about_me='<p>I am a professional front-end developer. good in CSS and HTML and average in js new in angular till now.</p>\\n', views='9', up_votes='0', down_votes='0', image_url='https://lh4.googleusercontent.com/-rLX1y6sdObk/AAAAAAAAAAI/AAAAAAAAAAA/APUIFaO-SLNxmLqxp9UhdbLM94BgP5kiJA/mo/photo.jpg?sz=128', user_created_at='2018-08-23 04:10:49', user_updated_at='2019-10-12 06:38:20', city='Jalandhar', country=' India'),\n",
       " Row(user_id='10262983', display_name='Nikunj Hapani', reputation='1', website_url=None, location='Surat, Gujarat, India', about_me='<p>Hello, I am PHP Developer for 2+ years experience. we are working for freelancing and job work. CodeIgniter, Core PHP, Wordpress, Shopify Application, Laravel and any other framework are working project are experienced.</p>\\n', views='7', up_votes='0', down_votes='0', image_url='https://www.gravatar.com/avatar/7ab6e27c18cbcf4f58fcbe836ece0c3e?s=128&d=identicon&r=PG&f=1', user_created_at='2018-08-23 05:44:28', user_updated_at='2019-03-28 12:34:16', city='Surat', country=' India'),\n",
       " Row(user_id='10249338', display_name='Prashant Kalikotay', reputation='3', website_url=None, location='Darjeeling, West Bengal, India', about_me='<p>Currently: Pursuing M.Sc in Mathematics with specialization in Computer Science.\\nYet to Be: A very sound programmer.</p>\\n', views='4', up_votes='0', down_votes='0', image_url='https://lh6.googleusercontent.com/-Q8Y66Qz6Kww/AAAAAAAAAAI/AAAAAAAAAA4/Bcbj11cgM4o/photo.jpg?sz=128', user_created_at='2018-08-20 10:17:27', user_updated_at='2019-09-23 15:29:44', city='Darjeeling', country=' India'),\n",
       " Row(user_id='10254503', display_name='Akshay Nikam', reputation='6', website_url=None, location='Pune, Maharashtra, India', about_me=None, views='6', up_votes='0', down_votes='0', image_url='https://lh4.googleusercontent.com/-XHNHKa29ADA/AAAAAAAAAAI/AAAAAAAAAAc/JMa0rthfj6o/photo.jpg', user_created_at='2018-08-21 11:23:31', user_updated_at='2019-08-22 06:36:53', city='Pune', country=' India'),\n",
       " Row(user_id='10254796', display_name='Harsh ', reputation='6', website_url=None, location='Mumbai, Maharashtra, India', about_me=None, views='4', up_votes='0', down_votes='0', image_url='https://lh4.googleusercontent.com/-TockyBFFJx0/AAAAAAAAAAI/AAAAAAAAAAA/APUIFaN-pte2qxZaS8B6QhnKISqSMxr9NQ/mo/photo.jpg', user_created_at='2018-08-21 12:33:09', user_updated_at='2019-08-21 10:48:38', city='Mumbai', country=' India'),\n",
       " Row(user_id='8363933', display_name='Jitendra Kumar', reputation='1', website_url=None, location='Bangalore, Karnataka, India', about_me=None, views='1', up_votes='0', down_votes='0', image_url='https://i.stack.imgur.com/e2UAq.jpg', user_created_at='2017-07-25 13:15:23', user_updated_at='2019-10-09 07:36:13', city='Bangalore', country=' India'),\n",
       " Row(user_id='4686721', display_name='Alex', reputation='3', website_url=None, location='Mumbai, Maharashtra, India', about_me=None, views='12', up_votes='0', down_votes='0', image_url='https://www.gravatar.com/avatar/50e1435f1736216643b258122a367024?s=128&d=identicon&r=PG&f=1', user_created_at='2015-03-18 18:21:25', user_updated_at='2019-07-20 16:56:46', city='Mumbai', country=' India'),\n",
       " Row(user_id='8366271', display_name='saravana', reputation='1', website_url=None, location='Bangalore, Karnataka, India', about_me='\"<p>Hi All</p>\\n\\n<p>I\\'m an admin guy responds issue in an automated and long way fix rather than immediate short fix.\\nAutomation is wide term starts from python scripts to AWS CFN templates.</p>\\n\\n<p>My GitHub link -- <a href=\"\"https://github.com/saravana1992\"\" rel=\"\"nofollow noreferrer\"\">https://github.com/saravana1992</a></p>', views=None, up_votes=None, down_votes=None, image_url=None, user_created_at=None, user_updated_at=None, city='Bangalore', country=' India'),\n",
       " Row(user_id='8359805', display_name='Vedant Jain', reputation='1', website_url=None, location='Mumbai, Maharashtra, India', about_me=None, views='1', up_votes='0', down_votes='0', image_url='https://www.gravatar.com/avatar/ca49b5516bba1f6ab62305fa2a302fff?s=128&d=identicon&r=PG&f=1', user_created_at='2017-07-24 19:55:57', user_updated_at='2019-10-12 13:42:07', city='Mumbai', country=' India'),\n",
       " Row(user_id='10253034', display_name='gayathri bindela', reputation='1', website_url=None, location='Hyderabad, Telangana, India', about_me=None, views='13', up_votes='0', down_votes='0', image_url='https://lh6.googleusercontent.com/-lmOtgOdYMqs/AAAAAAAAAAI/AAAAAAAAACU/cke7BTKkkIU/photo.jpg', user_created_at='2018-08-21 05:21:51', user_updated_at='2019-08-09 09:13:32', city='Hyderabad', country=' India'),\n",
       " Row(user_id='10253151', display_name='shirsh shukla', reputation='6', website_url=None, location='Indore, Madhya Pradesh, India', about_me=None, views='10', up_votes='0', down_votes='0', image_url='https://lh5.googleusercontent.com/-_WzKHMOMPn8/AAAAAAAAAAI/AAAAAAAAA-w/DftY2EJPizY/photo.jpg', user_created_at='2018-08-21 06:02:05', user_updated_at='2019-10-02 11:11:05', city='Indore', country=' India'),\n",
       " Row(user_id='10260337', display_name='Pratik K. Tiwari', reputation='1', website_url='http://pratiktiwari.com', location='India', about_me='<p>Hi, I am first year engineering graduate at Lovely Professional University, Punjab, India.\\nI am PHP enthusiast and aim to become a successful full stack developer with all modern technologies.</p>\\n', views='2', up_votes='0', down_votes='0', image_url=None, user_created_at='2018-08-22 14:40:05', user_updated_at='2019-04-25 08:34:33', city='India', country=None),\n",
       " Row(user_id='10264665', display_name='Amit Vekaria', reputation='1', website_url=None, location='Bangalore, Karnataka, India', about_me=None, views='8', up_votes='0', down_votes='0', image_url='https://lh6.googleusercontent.com/-59PElVpLhAQ/AAAAAAAAAAI/AAAAAAAAAAA/APUIFaMFPcZazKFDs6XHPYv0Jg1bnomgPg/mo/photo.jpg', user_created_at='2018-08-23 12:08:53', user_updated_at='2019-07-31 06:33:12', city='Bangalore', country=' India'),\n",
       " Row(user_id='8361923', display_name='saket sinha', reputation='7', website_url=None, location='Naya Raipur, Chhattisgarh, India', about_me=None, views='11', up_votes='0', down_votes='0', image_url='https://www.gravatar.com/avatar/64297471a85a5dd0463a8a588157dfd7?s=128&d=identicon&r=PG&f=1', user_created_at='2017-07-25 07:16:22', user_updated_at='2019-10-03 14:13:54', city='Naya Raipur', country=' India'),\n",
       " Row(user_id='10253265', display_name='Sreehari', reputation='1', website_url=None, location='Bangalore, Karnataka, India', about_me=None, views='7', up_votes='0', down_votes='0', image_url='https://lh5.googleusercontent.com/-GXPzGhVIhqs/AAAAAAAAAAI/AAAAAAAAIGc/_fHcc8OVfwI/photo.jpg', user_created_at='2018-08-21 06:32:21', user_updated_at='2019-06-04 11:22:31', city='Bangalore', country=' India'),\n",
       " Row(user_id='10260098', display_name='David Michael', reputation='1', website_url=None, location='Chennai, Tamil Nadu, India', about_me=None, views='2', up_votes='0', down_votes='0', image_url='https://graph.facebook.com/1869513730022388/picture?type=large', user_created_at='2018-08-22 13:55:15', user_updated_at='2019-05-22 11:05:35', city='Chennai', country=' India'),\n",
       " Row(user_id='4688365', display_name='healthyCoder', reputation='5', website_url=None, location='Bangalore, Karnataka, India', about_me='<p>I am a learner on Java.</p>\\n', views='2', up_votes='0', down_votes='0', image_url='https://www.gravatar.com/avatar/01704b80dbe5f7d602d8fefb363ae018?s=128&d=identicon&r=PG&f=1', user_created_at='2015-03-19 05:36:28', user_updated_at='2019-10-13 04:44:02', city='Bangalore', country=' India'),\n",
       " Row(user_id='8386281', display_name='Prathmesh Nikam', reputation='1', website_url=None, location='Pune, Maharashtra, India', about_me='<p>Hi, I am working as Front End Developer.</p>\\n', views='5', up_votes='0', down_votes='0', image_url='https://www.gravatar.com/avatar/b26c3655f8478a534636e0d7b28e30b0?s=128&d=identicon&r=PG&f=1', user_created_at='2017-07-29 13:35:32', user_updated_at='2019-10-11 10:58:50', city='Pune', country=' India'),\n",
       " Row(user_id='8391844', display_name='Amit S', reputation='1', website_url='http://sardamit.com', location='Pune, Maharashtra, India', about_me='<p>I am a Management professional with a background in Computer Engineering with a combined experience of over 8 years now. I have an MBA degree from a reputed B-School from India, along with a stint with Smith School of Business, University of Maryland, MD as an Exchange participant in Fall 2012. Professionally, I have worked with ZS Associates, a marketing and sales consulting firm (HQ: Evanston, IL) as a Business Consultant in Sales Force Effectiveness for 3.5 years, and with Cisco Systems as a Software Engineer for 3 years.</p>\\n\\n<p>Since the last 2+ years, I have been working as a Business Analytics and Intelligence Consultant, collaborating with small- and medium-sized businesses in the US, Europe, and Australia to help them grow, streamline, and optimize their business by leveraging my experience and using a variety analytical tools at my disposal.</p>\\n', views='0', up_votes='0', down_votes='0', image_url='https://graph.facebook.com/10159137667140504/picture?type=large', user_created_at='2017-07-31 05:17:29', user_updated_at='2019-05-06 10:54:08', city='Pune', country=' India'),\n",
       " Row(user_id='8386724', display_name='Nikhil Mittra', reputation='1', website_url=None, location='Delhi, India', about_me='<p>I am web developer and worked on technologies like angular 2+ versions, JavaScript, css and bootstrap.</p>\\n', views='1', up_votes='0', down_votes='0', image_url='https://www.gravatar.com/avatar/73e627e59c273db10192a7245cb410d9?s=128&d=identicon&r=PG&f=1', user_created_at='2017-07-29 16:14:00', user_updated_at='2019-06-20 18:04:15', city='Delhi', country=None),\n",
       " Row(user_id='8358058', display_name='Sai Krishna', reputation='1', website_url=None, location='Bangalore, Karnataka, India', about_me=None, views='4', up_votes='0', down_votes='0', image_url='https://graph.facebook.com/1839606259383173/picture?type=large', user_created_at='2017-07-24 13:26:07', user_updated_at='2019-10-11 07:31:37', city='Bangalore', country=' India'),\n",
       " Row(user_id='6504739', display_name='Lav', reputation='1', website_url=None, location='Mumbai, Maharashtra, India', about_me='<p>Work as an Data Engineer, develop ETL solutions on IBM Datastage, SQL, UNIX, Python,</p>\\n', views='1', up_votes='0', down_votes='0', image_url='https://www.gravatar.com/avatar/0ab7f67b39d841120beecabb16b64209?s=128&d=identicon&r=PG&f=1', user_created_at='2016-06-23 14:24:23', user_updated_at='2019-09-15 18:08:24', city='Mumbai', country=' India'),\n",
       " Row(user_id='8371324', display_name='Tuhin Karmakar', reputation='6', website_url=None, location='Kolkata, West Bengal, India', about_me='<pre><code>if ( Me.Awake() == True ) :\\n    Me.Start_Coding()\\n    Me.Be_Happy()\\n    Me.Learn_From_Scratch()\\nelse:\\n    Me.Sleep()\\n    Me.Rest()\\n    Me.Awake()\\n</code></pre>\\n', views='3', up_votes='0', down_votes='0', image_url='https://i.stack.imgur.com/YagU3.jpg', user_created_at='2017-07-26 16:11:11', user_updated_at='2019-09-29 10:40:51', city='Kolkata', country=' India'),\n",
       " Row(user_id='10272760', display_name='pk_python', reputation='1', website_url=None, location='Bangalore, Karnataka, India', about_me=None, views='1', up_votes='0', down_votes='0', image_url='https://www.gravatar.com/avatar/5f1e37399db3cd70e54802fb0179ec10?s=128&d=identicon&r=PG&f=1', user_created_at='2018-08-25 09:33:43', user_updated_at='2019-03-15 06:30:08', city='Bangalore', country=' India'),\n",
       " Row(user_id='8377985', display_name='Nihthiya Althaf', reputation='1', website_url=None, location='Chennai, Tamil Nadu, India', about_me=None, views='5', up_votes='0', down_votes='0', image_url='https://lh3.googleusercontent.com/-U1hzvAHi4hk/AAAAAAAAAAI/AAAAAAAABek/jzg4XMNbWPc/photo.jpg', user_created_at='2017-07-27 18:20:46', user_updated_at='2019-10-12 06:18:15', city='Chennai', country=' India'),\n",
       " Row(user_id='6517238', display_name='karthik_14k', reputation='1', website_url=None, location='Bangalore, Karnataka, India', about_me='<p>Full Stack Web Developer</p>\\n', views='0', up_votes='0', down_votes='0', image_url='https://www.gravatar.com/avatar/13f368b7936127df2f936ed49963b196?s=128&d=identicon&r=PG&f=1', user_created_at='2016-06-27 07:11:13', user_updated_at='2019-07-21 09:25:05', city='Bangalore', country=' India'),\n",
       " Row(user_id='10255811', display_name='kishan-rathod', reputation='1', website_url=None, location='Surat, Gujarat, India', about_me=None, views='2', up_votes='0', down_votes='0', image_url='https://www.gravatar.com/avatar/e69b7fdbf48b42e66f0306938a97ff1f?s=128&d=identicon&r=PG&f=1', user_created_at='2018-08-21 16:23:01', user_updated_at='2019-05-20 06:48:31', city='Surat', country=' India'),\n",
       " Row(user_id='8385864', display_name='Gangadharan', reputation='5', website_url=None, location='Hyderabad, Telangana, India', about_me=None, views='4', up_votes='0', down_votes='0', image_url='https://www.gravatar.com/avatar/8f8c34cd8a43d89e384deece5b987b8b?s=128&d=identicon&r=PG&f=1', user_created_at='2017-07-29 11:08:51', user_updated_at='2019-07-17 09:07:36', city='Hyderabad', country=' India'),\n",
       " Row(user_id='8363849', display_name='Yekanth', reputation='1', website_url=None, location='Hyderabad, Telangana, India', about_me='<p>Working as a Dot net Developer in Launchship IT  &amp; Media Pvt Ltd.</p>\\n', views='3', up_votes='0', down_votes='0', image_url='https://lh3.googleusercontent.com/-Jy48JxFKMN4/AAAAAAAAAAI/AAAAAAAAACg/LG3tjkRtymM/photo.jpg?sz=128', user_created_at='2017-07-25 13:01:12', user_updated_at='2019-09-25 00:39:19', city='Hyderabad', country=' India'),\n",
       " Row(user_id='4696371', display_name='Koushik Mondal', reputation='5', website_url='http://aiofield.com', location='Kolkata, West Bengal, India', about_me=None, views='25', up_votes='0', down_votes='0', image_url='https://graph.facebook.com/464948556992212/picture?type=large', user_created_at='2015-03-21 03:52:57', user_updated_at='2019-10-02 05:58:16', city='Kolkata', country=' India'),\n",
       " Row(user_id='10272195', display_name='SIMMI CHAURASIYA', reputation='1', website_url=None, location='Bareilly, Uttar Pradesh, India', about_me=None, views='5', up_votes='0', down_votes='0', image_url='https://lh5.googleusercontent.com/-ffzm81kezp0/AAAAAAAAAAI/AAAAAAAAAAA/APUIFaNBDqvuUtTA-7p9m6fpsN9eABiesw/mo/photo.jpg?sz=128', user_created_at='2018-08-25 05:17:58', user_updated_at='2019-10-07 06:28:43', city='Bareilly', country=' India'),\n",
       " Row(user_id='10258130', display_name='AmarDurai', reputation='6', website_url=None, location='Chennai, Tamil Nadu, India', about_me=None, views='3', up_votes='0', down_votes='0', image_url='https://lh5.googleusercontent.com/-dJpPt6QAdSo/AAAAAAAAAAI/AAAAAAAANkE/pH8CUE5SBW8/photo.jpg', user_created_at='2018-08-22 06:25:42', user_updated_at='2019-10-12 10:50:52', city='Chennai', country=' India'),\n",
       " Row(user_id='10275472', display_name='Ashitosh Salvi', reputation='1', website_url=None, location='Mumbai, Maharashtra, India', about_me=None, views='2', up_votes='0', down_votes='0', image_url='https://lh6.googleusercontent.com/-4epA_-jngFs/AAAAAAAAAAI/AAAAAAAAA4I/jnEGz99cXMw/photo.jpg', user_created_at='2018-08-26 08:47:33', user_updated_at='2019-08-13 10:30:58', city='Mumbai', country=' India'),\n",
       " Row(user_id='6505596', display_name='rajashanmugamjm', reputation='6', website_url='https://rajashanmugamjm-97.firebaseapp.com/#/me?src=so', location='Madurai, Tamil Nadu, India', about_me='<p>A passionate, cognitive, self-paced Web developer, with over 2.5 years of experience.\\nNow, I am capable of thinking outside the box to attain unique ideas.</p>\\n', views='2', up_votes='0', down_votes='0', image_url='https://lh3.googleusercontent.com/-Z97Hd9qhFjI/AAAAAAAAAAI/AAAAAAAABKU/5UMvbXLOWpc/photo.jpg?sz=128', user_created_at='2016-06-23 17:37:41', user_updated_at='2019-06-22 10:56:15', city='Madurai', country=' India'),\n",
       " Row(user_id='8374654', display_name='ananthu', reputation='3', website_url=None, location='Alappuzha, Kerala, India', about_me=None, views='16', up_votes='0', down_votes='0', image_url='https://www.gravatar.com/avatar/de8e345374e2a403465a08e6c961104c?s=128&d=identicon&r=PG&f=1', user_created_at='2017-07-27 07:57:05', user_updated_at='2019-07-04 11:05:30', city='Alappuzha', country=' India'),\n",
       " Row(user_id='10264991', display_name='Abhishek Soni', reputation='1', website_url=None, location='Pune, Maharashtra, India', about_me=None, views='2', up_votes='0', down_votes='0', image_url='https://www.gravatar.com/avatar/515669c496c59998da474abd62e88e16?s=128&d=identicon&r=PG&f=1', user_created_at='2018-08-23 13:12:49', user_updated_at='2019-09-05 10:15:53', city='Pune', country=' India'),\n",
       " Row(user_id='2627812', display_name='divij101', reputation='1', website_url=None, location='Gurgaon, Haryana, India', about_me=None, views='0', up_votes='0', down_votes='0', image_url=None, user_created_at='2013-07-28 15:14:06', user_updated_at='2019-08-14 11:31:15', city='Gurgaon', country=' India'),\n",
       " Row(user_id='10275418', display_name='surendar rajasekaran', reputation='1', website_url=None, location='Thanjavur, Tamil Nadu, India', about_me=None, views='1', up_votes='0', down_votes='0', image_url='https://lh4.googleusercontent.com/-puLrc74gzN4/AAAAAAAAAAI/AAAAAAAAB4A/QS9QPkOcyDM/photo.jpg', user_created_at='2018-08-26 08:17:27', user_updated_at='2019-08-28 06:43:26', city='Thanjavur', country=' India'),\n",
       " Row(user_id='6529737', display_name='Abhinav Kant', reputation='1', website_url=None, location='Gurgaon, Haryana, India', about_me=None, views='1', up_votes='0', down_votes='0', image_url='https://lh4.googleusercontent.com/-0cKVkOLabNk/AAAAAAAAAAI/AAAAAAAAAD4/hysMH6WdZ_g/photo.jpg', user_created_at='2016-06-29 17:35:58', user_updated_at='2019-10-08 22:46:23', city='Gurgaon', country=' India'),\n",
       " Row(user_id='6522311', display_name='Suraj Tiwari', reputation='1', website_url=None, location='Chandan Nagar, Pune, Maharashtra, India', about_me='<p>software developer at java technology</p>\\n', views='14', up_votes='0', down_votes='0', image_url='https://lh5.googleusercontent.com/-qMFUVG9KMQw/AAAAAAAAAAI/AAAAAAAAB4s/rAA0StLkihY/photo.jpg?sz=128', user_created_at='2016-06-28 08:43:35', user_updated_at='2019-10-09 14:10:01', city='Chandan Nagar', country=' Maharashtra'),\n",
       " Row(user_id='10276475', display_name='Abishek Roy R', reputation='4', website_url=None, location='Poonamallee, Chennai, Tamil Nadu, India', about_me=None, views='4', up_votes='0', down_votes='0', image_url='https://lh4.googleusercontent.com/-bSuhH59rKGE/AAAAAAAAAAI/AAAAAAAAABA/5uZqRiYdmrQ/photo.jpg', user_created_at='2018-08-26 15:31:00', user_updated_at='2019-05-10 06:27:16', city='Poonamallee', country=' Tamil Nadu'),\n",
       " Row(user_id='10272845', display_name='Akash Panigrahi', reputation='7', website_url=None, location='Vellore, Tamil Nadu, India', about_me=None, views='14', up_votes='0', down_votes='0', image_url='https://lh3.googleusercontent.com/-Pcb5jpXym_g/AAAAAAAAAAI/AAAAAAAAEYw/9ZnmEDyTH44/photo.jpg', user_created_at='2018-08-25 10:18:00', user_updated_at='2019-10-05 12:13:44', city='Vellore', country=' India'),\n",
       " Row(user_id='8398418', display_name='shahir', reputation='1', website_url=None, location='Bengaluru, Karnataka, India', about_me=None, views='9', up_votes='0', down_votes='0', image_url='https://www.gravatar.com/avatar/aace2b063be70c3fdad5b1c04c8df833?s=128&d=identicon&r=PG&f=1', user_created_at='2017-08-01 08:19:41', user_updated_at='2019-04-05 12:51:09', city='Bengaluru', country=' India'),\n",
       " Row(user_id='8409672', display_name='Siddharth Maredu', reputation='3', website_url=None, location='Hyderabad, Telangana, India', about_me=None, views='8', up_votes='0', down_votes='0', image_url='https://lh4.googleusercontent.com/-JwinrXnE9RI/AAAAAAAAAAI/AAAAAAAAG28/nNwUTj9pKDs/photo.jpg', user_created_at='2017-08-03 06:25:43', user_updated_at='2019-10-09 14:39:45', city='Hyderabad', country=' India'),\n",
       " Row(user_id='2609024', display_name='user2609024', reputation='3', website_url=None, location='Mumbai, Maharashtra, India', about_me=None, views='3', up_votes='0', down_votes='0', image_url=None, user_created_at='2013-07-23 03:32:50', user_updated_at='2019-09-11 12:52:49', city='Mumbai', country=' India'),\n",
       " Row(user_id='10259020', display_name='Chandan Gupta', reputation='1', website_url=None, location='New Delhi, Delhi, India', about_me=None, views='1', up_votes='0', down_votes='0', image_url='https://graph.facebook.com/1465891853492594/picture?type=large', user_created_at='2018-08-22 09:47:55', user_updated_at='2019-05-29 10:00:59', city='New Delhi', country=' India')]"
      ]
     },
     "execution_count": 82,
     "metadata": {},
     "output_type": "execute_result"
    }
   ],
   "source": [
    "# rows where city was not quoted the country are being taken as None\n",
    "india_users.take(50)"
   ]
  },
  {
   "cell_type": "code",
   "execution_count": 83,
   "metadata": {},
   "outputs": [
    {
     "data": {
      "text/plain": [
       "['user_id',\n",
       " 'display_name',\n",
       " 'reputation',\n",
       " 'website_url',\n",
       " 'location',\n",
       " 'about_me',\n",
       " 'views',\n",
       " 'up_votes',\n",
       " 'down_votes',\n",
       " 'image_url',\n",
       " 'user_created_at',\n",
       " 'user_updated_at',\n",
       " 'city',\n",
       " 'country',\n",
       " 'question_id',\n",
       " 'title',\n",
       " 'question_body',\n",
       " 'accepted_answer_id',\n",
       " 'score',\n",
       " 'view_count',\n",
       " 'comment_count',\n",
       " 'question_created_at']"
      ]
     },
     "execution_count": 83,
     "metadata": {},
     "output_type": "execute_result"
    }
   ],
   "source": [
    "# an inner join of the filtered users df with the question df\n",
    "df = india_users.join(questions, on='user_id', how='left')\n",
    "df.columns"
   ]
  },
  {
   "cell_type": "code",
   "execution_count": 84,
   "metadata": {},
   "outputs": [],
   "source": [
    "# selecting only questions with at least 20 view counts\n",
    "df = df.filter(df['view_count'] >= 20)"
   ]
  },
  {
   "cell_type": "code",
   "execution_count": 87,
   "metadata": {},
   "outputs": [
    {
     "data": {
      "text/plain": [
       "['user_id',\n",
       " 'question_id',\n",
       " 'display_name',\n",
       " 'reputation',\n",
       " 'website_url',\n",
       " 'location',\n",
       " 'about_me',\n",
       " 'views',\n",
       " 'up_votes',\n",
       " 'down_votes',\n",
       " 'image_url',\n",
       " 'user_created_at',\n",
       " 'user_updated_at',\n",
       " 'city',\n",
       " 'country',\n",
       " 'title',\n",
       " 'question_body',\n",
       " 'accepted_answer_id',\n",
       " 'score',\n",
       " 'view_count',\n",
       " 'comment_count',\n",
       " 'question_created_at',\n",
       " 'answer_id',\n",
       " 'question_id',\n",
       " 'answer_body',\n",
       " 'score',\n",
       " 'comment_count',\n",
       " 'answer_created_at',\n",
       " 'answer_id',\n",
       " 'user_id',\n",
       " 'answer_body',\n",
       " 'score',\n",
       " 'comment_count',\n",
       " 'answer_created_at',\n",
       " 'answer_id',\n",
       " 'question_id',\n",
       " 'answer_body',\n",
       " 'score',\n",
       " 'comment_count',\n",
       " 'answer_created_at']"
      ]
     },
     "execution_count": 87,
     "metadata": {},
     "output_type": "execute_result"
    }
   ],
   "source": [
    "# joining the resultant table to the users answers table\n",
    "df = df.join(answers, on='user_id', how='left')\n",
    "df.columns"
   ]
  },
  {
   "cell_type": "markdown",
   "metadata": {},
   "source": [
    "### Step 3: Data Loading"
   ]
  },
  {
   "cell_type": "code",
   "execution_count": null,
   "metadata": {},
   "outputs": [],
   "source": []
  },
  {
   "cell_type": "code",
   "execution_count": null,
   "metadata": {},
   "outputs": [],
   "source": []
  }
 ],
 "metadata": {
  "kernelspec": {
   "display_name": "Python 3",
   "language": "python",
   "name": "python3"
  },
  "language_info": {
   "codemirror_mode": {
    "name": "ipython",
    "version": 3
   },
   "file_extension": ".py",
   "mimetype": "text/x-python",
   "name": "python",
   "nbconvert_exporter": "python",
   "pygments_lexer": "ipython3",
   "version": "3.7.0"
  }
 },
 "nbformat": 4,
 "nbformat_minor": 4
}
