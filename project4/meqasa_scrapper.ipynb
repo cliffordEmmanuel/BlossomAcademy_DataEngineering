{
 "cells": [
  {
   "cell_type": "markdown",
   "metadata": {},
   "source": [
    "### Meqasa scrapper\n",
    "#### This is aimed at scrapping real estate listings from meqasa using BeautifulSoup and requests"
   ]
  },
  {
   "cell_type": "code",
   "execution_count": 1,
   "metadata": {},
   "outputs": [],
   "source": [
    "import re\n",
    "import datetime\n",
    "import requests\n",
    "import numpy as np\n",
    "import pandas as pd\n",
    "from bs4 import BeautifulSoup"
   ]
  },
  {
   "cell_type": "code",
   "execution_count": 45,
   "metadata": {},
   "outputs": [],
   "source": [
    "# getting just the results on the first page\n",
    "def house_info(houses):\n",
    "    house_names = []\n",
    "    house_beds = []\n",
    "    house_showers = []\n",
    "    house_garages = []\n",
    "    house_areas = []\n",
    "    house_descriptions = []\n",
    "    house_prices = []\n",
    "    currencies = []\n",
    "    rent_periods = []\n",
    "    house_urls = []\n",
    "    house_address = []\n",
    "    posted_times = []\n",
    "    \n",
    "    for listing in houses:\n",
    "        url = base_url + listing.find('a').attrs['href']\n",
    "        property_name = listing.find('h2').text.strip()\n",
    "        address = listing.find('h2').text.strip().split('for rent at ')[1]\n",
    "        bed = isNone(listing.find('li', {'class':'bed'}))\n",
    "        shower = isNone(listing.find('li',{'class': 'shower'}))  \n",
    "        garage = isNone(listing.find('li', {'class': 'garage'}))\n",
    "        area = isNone(listing.find('li', {'class': 'area'})) \n",
    "        price, currency, rent_period = isPriceQuoted(listing.find('p',{'class': 'h3'}).text)     \n",
    "        \n",
    "        \n",
    "        # clicking the listing page to get the description and the updated time info\n",
    "        current_item = requests.get(url)\n",
    "        current_item_soup = BeautifulSoup(current_item.content, 'lxml')\n",
    "        house = current_item_soup.find('div', {'class': 'bottom-one-column-details'})\n",
    "        description = house.find('div', {'class': 'description'}).find('p').text\n",
    "        posted_time = current_item_soup.find('p', {'class':'listed-by-text'}).text.replace('Updated on ', '').replace(' by:', '')\n",
    "\n",
    "        \n",
    "        # alright now putting everything inside append all the info\n",
    "        house_names.append(property_name)\n",
    "        house_beds.append(bed)\n",
    "        house_showers.append(shower)\n",
    "        house_garages.append(garage)\n",
    "        house_areas.append(area)\n",
    "        house_descriptions.append(description)\n",
    "        house_prices.append(price)\n",
    "        currencies.append(currency)\n",
    "        rent_periods.append(rent_period)\n",
    "        house_urls.append(url)\n",
    "        house_address.append(address)\n",
    "        posted_times.append(posted_time)\n",
    "        \n",
    "    # now creating a dataframe of the lists\n",
    "    df_houses = pd.DataFrame({'Property' : house_names,\n",
    "                              'Beds' : house_beds,\n",
    "                              'Showers' : house_showers,\n",
    "                              'Garages' : house_garages,\n",
    "                              'Areas' : house_areas,\n",
    "                              'Description' : house_descriptions,\n",
    "                              'Price' : house_prices,\n",
    "                              'Currency' : currencies,\n",
    "                              'Rent_period' : rent_periods,\n",
    "                              'Url' : house_urls,\n",
    "                              'Address' : house_address,\n",
    "                              'Time_posted' : posted_times})\n",
    "    return(df_houses)\n",
    "\n",
    "\n",
    "\n",
    "# function to append 0 where it doesn't have a value...\n",
    "def isNone(var):\n",
    "    if var is None:\n",
    "        return 0\n",
    "    else:\n",
    "        return var.text\n",
    "\n",
    "# creating a method to get the price, currency and rent_period from the price string based on what is searched.\n",
    "def isPriceQuoted(var):\n",
    "    if 'GH₵' in var:\n",
    "        price = var.strip().replace('PriceGH₵', '').split('/')[0].strip()  # getting the price\n",
    "        c = var.strip().replace('Price', '').split('/')[0]\n",
    "        currency = re.sub('(\\d+)', '',c).replace(', ', '') # getting the currency\n",
    "        rent_period = var.strip().replace('PriceGH₵', '').split('/')[1].strip() # getting the rent period\n",
    "    elif '$' in var:\n",
    "        price = var.strip().replace('Price$', '').split('/')[0].strip()  # getting the price\n",
    "        c = var.strip().replace('Price', '').split('/')[0]\n",
    "        currency = re.sub('(\\d+)', '',c).replace(', ', '') # getting the currency\n",
    "        rent_period = var.strip().replace('Price$', '').split('/')[1].strip() # getting the rent period\n",
    "    else:\n",
    "        price = 'disclosed on request'\n",
    "        currency = 'disclosed on request'\n",
    "        rent_period = 'disclosed on request'\n",
    "    return price, currency, rent_period\n",
    "\n",
    "\n",
    "def save_data(df):\n",
    "    file_time = datetime.datetime.now()\n",
    "    file_time = file_time.strftime('%Y-%m-%d')\n",
    "    fine_name = 'meqasa_'+file_time+'.csv'\n",
    "    \n",
    "    df.to_csv('../data/'+fine_name, index=False)"
   ]
  },
  {
   "cell_type": "code",
   "execution_count": null,
   "metadata": {},
   "outputs": [],
   "source": [
    "df_final = pd.DataFrame([])\n",
    "base_url = 'https://meqasa.com/'\n",
    "results = requests.get('https://meqasa.com/houses-for-rent-in-ghana')\n",
    "soup = BeautifulSoup(results.content, 'lxml')\n",
    "houses = soup.find_all('div', {'class': 'row mqs-featured-prop-inner-wrap clickable'})\n",
    "\n"
   ]
  },
  {
   "cell_type": "code",
   "execution_count": null,
   "metadata": {},
   "outputs": [],
   "source": [
    "df_final = house_info(houses)\n",
    "save_data(df_final)"
   ]
  },
  {
   "cell_type": "code",
   "execution_count": null,
   "metadata": {},
   "outputs": [],
   "source": [
    "df_final.head(10)"
   ]
  },
  {
   "cell_type": "code",
   "execution_count": null,
   "metadata": {},
   "outputs": [],
   "source": []
  }
 ],
 "metadata": {
  "kernelspec": {
   "display_name": "Python 3",
   "language": "python",
   "name": "python3"
  },
  "language_info": {
   "codemirror_mode": {
    "name": "ipython",
    "version": 3
   },
   "file_extension": ".py",
   "mimetype": "text/x-python",
   "name": "python",
   "nbconvert_exporter": "python",
   "pygments_lexer": "ipython3",
   "version": "3.6.8"
  }
 },
 "nbformat": 4,
 "nbformat_minor": 4
}
